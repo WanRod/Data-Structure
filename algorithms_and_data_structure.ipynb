{
  "nbformat": 4,
  "nbformat_minor": 0,
  "metadata": {
    "colab": {
      "provenance": [],
      "include_colab_link": true
    },
    "kernelspec": {
      "name": "python3",
      "display_name": "Python 3"
    },
    "language_info": {
      "name": "python"
    }
  },
  "cells": [
    {
      "cell_type": "markdown",
      "metadata": {
        "id": "view-in-github",
        "colab_type": "text"
      },
      "source": [
        "<a href=\"https://colab.research.google.com/github/WanRod/Data-Structure/blob/main/algorithms_and_data_structure.ipynb\" target=\"_parent\"><img src=\"https://colab.research.google.com/assets/colab-badge.svg\" alt=\"Open In Colab\"/></a>"
      ]
    },
    {
      "cell_type": "markdown",
      "source": [
        "#Estruturas de dados em Python\n",
        "**Disciplina:** Algorimtos e Estrutura de Dados\n",
        "\n",
        "**Professor:** Evandro José de Oliveira Júnior\n",
        "\n",
        "**UniFIPMoc 24/042024**"
      ],
      "metadata": {
        "id": "E7HyHQSSCAvb"
      }
    },
    {
      "cell_type": "markdown",
      "source": [
        "#**AULA 01. Pilhas em Python**\n",
        "Imagine uma pilha de pratos em uma bandeja de self-service; você só pode pegar o prato que está no topo, e cada novo prato é colocado no topo da pilha existente. A simplicidade do modelo de acesso LIFO da pilha a torna ideal para diversas aplicações em ciência da computação. Veja o exemplo:"
      ],
      "metadata": {
        "id": "ZHyfCEk3FVwp"
      }
    },
    {
      "cell_type": "code",
      "source": [
        "# Definição da classe Pilha\n",
        "class Stack:\n",
        "\n",
        "\n",
        "    def __init__(self):\n",
        "        self.items = [] # Inicializa a pilha como uma lista vazia\n",
        "\n",
        "    def is_empty(self):\n",
        "        return len(self.items) == 0 # Verifica se a pilha está vazia\n",
        "\n",
        "    #self referencia ao próprio objeto(ou seja, o stack) (próprio objeto, valor enviado)\n",
        "    def push(self, item):\n",
        "        self.items.append(item) # Adiciona um item ao topo da pilha\n",
        "\n",
        "    def pop(self):\n",
        "        # Remove e retorna o item do topo da pilha\n",
        "        # A função assume que a pilha não está vazia\n",
        "        if not self.is_empty():\n",
        "            return self.items.pop()\n",
        "        return None\n",
        "\n",
        "    def peek(self):\n",
        "        # Retorna o item do topo da pilha sem removê-lo\n",
        "        # A função assume que a pilha não está vazia\n",
        "        if not self.is_empty():\n",
        "            return self.items[-1]\n",
        "        return None\n",
        "\n",
        "    def size(self):\n",
        "        # Retorna o número de elementos na pilha\n",
        "        return len(self.items)"
      ],
      "metadata": {
        "id": "kZTlPkmAFk87"
      },
      "execution_count": null,
      "outputs": []
    },
    {
      "cell_type": "code",
      "source": [
        "# Exemplo de uso da Pilha\n",
        "if __name__ == \"__main__\":\n",
        "    stack = Stack()  # Cria uma nova pilha\n",
        "\n",
        "\n",
        "    # Adiciona alguns elementos à pilha\n",
        "    stack.push(\"A\")\n",
        "    stack.push(\"B\")\n",
        "    stack.push(\"F\")\n",
        "\n",
        "    # Exibe o elemento do topo da pilha\n",
        "    print(\"Topo da pilha:\", stack.peek())\n",
        "\n",
        "    print(\"Tamanho inicial da pilha:\", stack.size())\n",
        "    # Remove elementos da pilha\n",
        "    print(\"Elementos removidos:\")\n",
        "    while not stack.is_empty():\n",
        "        print(stack.pop())\n",
        "\n",
        "    # Verifica o tamanho da pilha\n",
        "    print(\"Tamanho final da pilha:\", stack.size())"
      ],
      "metadata": {
        "colab": {
          "base_uri": "https://localhost:8080/"
        },
        "id": "Ep08pSDMFv6D",
        "outputId": "da5fd296-59fd-49b3-ce88-701754574754"
      },
      "execution_count": null,
      "outputs": [
        {
          "output_type": "stream",
          "name": "stdout",
          "text": [
            "Topo da pilha: F\n",
            "Tamanho inicial da pilha: 3\n",
            "Elementos removidos:\n",
            "F\n",
            "B\n",
            "A\n",
            "Tamanho final da pilha: 0\n"
          ]
        }
      ]
    },
    {
      "cell_type": "markdown",
      "source": [
        "# **Explicação do Código:**\n",
        "A classe Stack define a pilha com métodos para suas operações básicas.\n",
        "\n",
        "**push** adiciona um item ao topo da pilha.\n",
        "\n",
        "**pop** remove o item do topo e o retorna.\n",
        "\n",
        "**peek** permite ver o item no topo sem removê-lo.\n",
        "\n",
        "**is_empty** verifica se a pilha está vazia.\n",
        "\n",
        "**size** retorna o número de itens na pilha."
      ],
      "metadata": {
        "id": "Dw5YpG3GF02i"
      }
    },
    {
      "cell_type": "markdown",
      "source": [
        "# **Atividade 01. Movendo itens para base**\n",
        "\n",
        "Modifique a classe de pilha em Python para incluir uma nova funcionalidade. Essa funcionalidade será uma função que insere um item na base da pilha, removendo todos os itens que estavam abaixo dele. Isso significa que o item inserido se tornará o item de base da pilha.\n",
        "\n",
        "\n",
        "Você deve modificar a classe Stack para incluir um método chamado **push_to_base**. Esse método deve:\n",
        "\n",
        "\n",
        "\n",
        "1. Remover todos os itens da pilha,\n",
        "2. Inserir o novo item como o primeiro da pilha,\n",
        "3. Colocar os itens removidos de volta na pilha, mantendo a ordem original deles acima do novo item de base.\n",
        "4. Mostre a pilha, o tamanho da pilha e o item da base"
      ],
      "metadata": {
        "id": "gUyRggoiMydt"
      }
    },
    {
      "cell_type": "code",
      "source": [
        "class Stack:\n",
        "    def __init__(self):\n",
        "        self.items = []\n",
        "\n",
        "    def is_empty(self):\n",
        "        return len(self.items) == 0\n",
        "\n",
        "    def push(self, item):\n",
        "        self.items.append(item)\n",
        "\n",
        "    def pop(self):\n",
        "        if not self.is_empty():\n",
        "            return self.items.pop()\n",
        "        return None\n",
        "\n",
        "    def peek(self):\n",
        "        if not self.is_empty():\n",
        "            return self.items[-1]\n",
        "        return None\n",
        "\n",
        "    def size(self):\n",
        "        return len(self.items)\n",
        "\n",
        "    def push_to_base(self, item):\n",
        "      newStack = Stack()\n",
        "      for i in range(self.size() - 1 , 0):\n",
        "        newStack.push(self.push(i))\n",
        "        self.pop(i)\n",
        "\n",
        "      self.push(item)\n",
        "\n",
        "\n",
        "    # Aqui você deve criar o método push_to_base recebendo o novo item\n",
        "\n"
      ],
      "metadata": {
        "colab": {
          "base_uri": "https://localhost:8080/"
        },
        "id": "BK4LAkeNtkHJ",
        "outputId": "9b7f3f78-e6d8-49a4-c5e3-c650d4a04182"
      },
      "execution_count": null,
      "outputs": [
        {
          "output_type": "stream",
          "name": "stdout",
          "text": [
            "Pilha original: ['A', 'B', 'C']\n"
          ]
        }
      ]
    },
    {
      "cell_type": "code",
      "source": [
        "\n",
        "if __name__ == \"__main__\":\n",
        "    stack = Stack()\n",
        "    stack.push(\"A\")\n",
        "    stack.push(\"B\")\n",
        "    stack.push(\"C\")\n",
        "    print(\"Pilha original:\", stack.items)\n",
        "\n",
        "    # Aqui você chamará o método push_to_base com um novo item\n",
        "    # Mostrar a nova pilha"
      ],
      "metadata": {
        "id": "qfLTnH2RzqcM"
      },
      "execution_count": null,
      "outputs": []
    },
    {
      "cell_type": "markdown",
      "source": [
        "Ao executar o código, a saída deverá ser:\n",
        "\n",
        "Pilha original: **['A', 'B', 'C', 'X']**\n",
        "\n",
        "Nova pilha com 'X' na base: **['X', 'A', 'B', 'C']**\n"
      ],
      "metadata": {
        "id": "b1H_WP3huGiv"
      }
    },
    {
      "cell_type": "markdown",
      "source": [
        "#**AULA 02. Lista Encadeada em Python**\n",
        "**Definição**: Uma lista encadeada é uma coleção de elementos chamados nós, onde cada nó contém dados e uma referência (ou link) ao próximo nó na sequência.\n",
        "\n",
        "**Características**:\n",
        "Dinâmica: O tamanho da lista pode crescer e diminuir conforme necessário.\n",
        "\n",
        "Eficiente: Inserções e remoções podem ser feitas com pouca reorganização ou uso de memória adicional."
      ],
      "metadata": {
        "id": "ujS1XfKlr-xV"
      }
    },
    {
      "cell_type": "code",
      "source": [
        "#self é usada para representar a instância da\n",
        "#classe em que o código está sendo executado.\n",
        "\n",
        "class Node:\n",
        "    def __init__(self, data):\n",
        "        self.data = data # Define o atributo 'data' do objeto Node\n",
        "        self.next = None # Define o atributo 'next' do objeto Node como None inicial"
      ],
      "metadata": {
        "id": "bIRbhsWmsKC2"
      },
      "execution_count": null,
      "outputs": []
    },
    {
      "cell_type": "code",
      "source": [
        "class LinkedList:\n",
        "    def __init__(self):\n",
        "        self.head = None\n",
        "\n",
        "    def append(self, data):\n",
        "        \"\"\"Adiciona um nó ao final da lista\"\"\"\n",
        "        new_node = Node(data)\n",
        "        if not self.head:\n",
        "            self.head = new_node\n",
        "            return\n",
        "        last = self.head\n",
        "        while last.next:\n",
        "            last = last.next\n",
        "        last.next = new_node\n",
        "\n",
        "    def prepend(self, data):\n",
        "        \"\"\"Adiciona um nó no início da lista\"\"\"\n",
        "        new_node = Node(data)\n",
        "        new_node.next = self.head\n",
        "        self.head = new_node\n",
        "\n",
        "    def delete_node(self, key):\n",
        "        \"\"\"Remove o nó com o valor específico\"\"\"\n",
        "        current = self.head\n",
        "        if current and current.data == key:\n",
        "            self.head = current.next\n",
        "            current = None\n",
        "            return\n",
        "\n",
        "        previous = None\n",
        "        while current and current.data != key:\n",
        "            previous = current\n",
        "            current = current.next\n",
        "\n",
        "        if current is None:  # Se o nó não for encontrado\n",
        "            return\n",
        "\n",
        "        previous.next = current.next\n",
        "        current = None\n",
        "\n",
        "    def print_list(self):\n",
        "        \"\"\"Imprime todos os elementos da lista\"\"\"\n",
        "        current = self.head\n",
        "        while current:\n",
        "            print(current.data, end=\" -> \")\n",
        "            current = current.next\n",
        "        print(\"None\")"
      ],
      "metadata": {
        "id": "vpPnpMIr_G4l"
      },
      "execution_count": null,
      "outputs": []
    },
    {
      "cell_type": "markdown",
      "source": [
        "#Adicionando e Removendo Itens a uma Lista Encadeada em Python"
      ],
      "metadata": {
        "id": "8DzDfMTmsgpn"
      }
    },
    {
      "cell_type": "code",
      "source": [
        "# Testando a lista encadeada\n",
        "llist = LinkedList()\n",
        "llist.append(1)\n",
        "llist.append(2)\n",
        "llist.append(3)\n",
        "llist.append(2)\n",
        "llist.append(5)\n",
        "\n",
        "# Imprimindo os elementos da lista\n",
        "print(\"Lista após adições:\")\n",
        "llist.print_list()"
      ],
      "metadata": {
        "id": "Bp6JwDKQsT9n",
        "colab": {
          "base_uri": "https://localhost:8080/"
        },
        "outputId": "1eb4160b-a89e-4780-c66f-1c7f19929b58"
      },
      "execution_count": null,
      "outputs": [
        {
          "output_type": "stream",
          "name": "stdout",
          "text": [
            "Lista após adições:\n",
            "1 -> 2 -> 3 -> 2 -> 5 -> None\n"
          ]
        }
      ]
    },
    {
      "cell_type": "code",
      "source": [
        "# Removendo um elemento\n",
        "llist.delete_node(2)\n",
        "print(\"Lista após remover o elemento '2':\")\n",
        "llist.print_list()"
      ],
      "metadata": {
        "colab": {
          "base_uri": "https://localhost:8080/"
        },
        "id": "eqIN0Qmy_4NM",
        "outputId": "a7ae62fa-67dd-474e-a83c-53d282a9deb5"
      },
      "execution_count": null,
      "outputs": [
        {
          "output_type": "stream",
          "name": "stdout",
          "text": [
            "Lista após remover o elemento '2':\n",
            "1 -> 3 -> 5 -> None\n"
          ]
        }
      ]
    },
    {
      "cell_type": "code",
      "source": [
        "# Adicionando um elemento no início\n",
        "llist.prepend(100)\n",
        "print(\"Lista após adicionar '100' no início:\")\n",
        "llist.print_list()"
      ],
      "metadata": {
        "colab": {
          "base_uri": "https://localhost:8080/"
        },
        "id": "yiHExPonAEId",
        "outputId": "0c23687f-00a6-432f-8bd5-78213e81ae1b"
      },
      "execution_count": null,
      "outputs": [
        {
          "output_type": "stream",
          "name": "stdout",
          "text": [
            "Lista após adicionar '0' no início:\n",
            "100 -> 100 -> 100 -> 100 -> 100 -> 100 -> 1 -> 3 -> 5 -> None\n"
          ]
        }
      ]
    },
    {
      "cell_type": "markdown",
      "source": [
        "# **Atividade 02. Listas encadeadas**\n",
        "**Descrição da Atividade**:\n",
        "\n",
        "Desenvolvimento de uma lista encadeada que suporte operações básicas e avançadas. Imploementação de métodos para adicionar, remover e buscar elementos na lista, além de manter a lista organizada em ordem crescente após cada inserção.\n",
        "\n",
        "**Objetivos da Atividade**:\n",
        "\n",
        "**Implementar uma lista encadeada:** Compreender e aplicar o conceito de nós ligados.\n",
        "\n",
        "**Manipular elementos na lista:** Adicionar, remover, e buscar elementos de maneira eficiente.\n",
        "\n",
        "**Manter a ordem da lista:** Inserir elementos de forma que a lista sempre permaneça ordenada.\n",
        "\n",
        "Implementar o Método delete: Completem o método para remover um elemento da lista, considerando todos os casos possíveis (nó inicial, nó intermediário, nó final).\n",
        "\n",
        "Testar a Lista Encadeada: Escrevam testes adicionais para verificar a integridade da lista após múltiplas inserções e remoções."
      ],
      "metadata": {
        "id": "6cWVFbI0TFF0"
      }
    },
    {
      "cell_type": "code",
      "source": [
        "class Node:\n",
        "    def __init__(self, data):\n",
        "        self.data = data\n",
        "        self.next = None\n",
        "\n",
        "class LinkedList:\n",
        "    def __init__(self):\n",
        "        self.head = None\n",
        "\n",
        "    def insert(self, data):\n",
        "        \"\"\"Insere um novo elemento na lista mantendo a ordem crescente.\"\"\"\n",
        "        new_node = Node(data)\n",
        "        if not self.head or self.head.data >= data:\n",
        "            new_node.next = self.head\n",
        "            self.head = new_node\n",
        "        else:\n",
        "            current = self.head\n",
        "            while current.next and current.next.data < data:\n",
        "                current = current.next\n",
        "            new_node.next = current.next\n",
        "            current.next = new_node\n",
        "\n",
        "    def find(self, key):\n",
        "        \"\"\"Busca um elemento na lista.\"\"\"\n",
        "        current = self.head\n",
        "        while current and current.data != key:\n",
        "            current = current.next\n",
        "        return current is not None\n",
        "\n",
        "    def delete(self, key):\n",
        "        \"\"\"Remove um elemento da lista.\"\"\"\n",
        "        current = self.head\n",
        "        if current and current.data == key:\n",
        "            self.head = current.next\n",
        "            return\n",
        "        prev = None\n",
        "        while current and current.data != key:\n",
        "            prev = current\n",
        "            current = current.next\n",
        "        if current:\n",
        "            prev.next = current.next\n",
        "\n",
        "    def print_list(self):\n",
        "        \"\"\"Imprime todos os elementos da lista.\"\"\"\n",
        "        current = self.head\n",
        "        while current:\n",
        "            print(current.data, end=\" -> \")\n",
        "            current = current.next\n",
        "        print(\"None\")\n",
        "\n",
        "# Testar a lista encadeada\n",
        "def test_linked_list():\n",
        "    # Inicie a lista\n",
        "    # Crie uma estrutura com 50, 20, 40, 10, 30\n",
        "    # Insira o intens a lista encadeada\n",
        "    # Imprima o lista após a inserção\n",
        "    # Remova o item 10 e imprima novamente\n",
        "\n",
        "if __name__ == \"__main__\":\n",
        "    test_linked_list()\n",
        "\n"
      ],
      "metadata": {
        "colab": {
          "base_uri": "https://localhost:8080/",
          "height": 106
        },
        "id": "mfH6jREPU72l",
        "outputId": "ba86b9a3-0693-4cc8-c9cb-d8c77797533c"
      },
      "execution_count": null,
      "outputs": [
        {
          "output_type": "error",
          "ename": "IndentationError",
          "evalue": "expected an indented block after function definition on line 52 (<ipython-input-14-1baafe558f17>, line 59)",
          "traceback": [
            "\u001b[0;36m  File \u001b[0;32m\"<ipython-input-14-1baafe558f17>\"\u001b[0;36m, line \u001b[0;32m59\u001b[0m\n\u001b[0;31m    if __name__ == \"__main__\":\u001b[0m\n\u001b[0m    ^\u001b[0m\n\u001b[0;31mIndentationError\u001b[0m\u001b[0;31m:\u001b[0m expected an indented block after function definition on line 52\n"
          ]
        }
      ]
    },
    {
      "cell_type": "markdown",
      "source": [
        "#**AULA 03. Filas em Python**\n",
        "**Definição:**\n",
        "Uma fila é uma estrutura de dados que opera sob o princípio FIFO (First In, First Out), onde o primeiro elemento adicionado é o primeiro a ser removido.\n",
        "\n",
        "**biblioteca:**\n",
        "Vamos criar um exemplo de código em Python que demonstra como utilizar uma fila, incluindo operações de inserção (enqueue) e remoção (dequeue) de itens. Para isso, utilizaremos a classe deque da biblioteca collections, que é uma forma eficiente de implementar filas em Python.\n"
      ],
      "metadata": {
        "id": "Vy-W-iAEtUHR"
      }
    },
    {
      "cell_type": "code",
      "source": [
        "from collections import deque\n",
        "\n",
        "class Queue:\n",
        "    def __init__(self):\n",
        "        # Inicializa a fila usando deque, que permite inserções e remoções eficientes\n",
        "        self.elements = deque()\n",
        "\n",
        "    def enqueue(self, item):\n",
        "        \"\"\"Adiciona um item ao final da fila\"\"\"\n",
        "        self.elements.append(item)\n",
        "        print(f\"Item {item} adicionado à fila. Fila atual: {list(self.elements)}\")\n",
        "\n",
        "    def dequeue(self):\n",
        "        \"\"\"Remove e retorna o item do início da fila\"\"\"\n",
        "        if self.elements:\n",
        "            removed_item = self.elements.popleft()\n",
        "            print(f\"Item {removed_item} removido da fila. Fila atual: {list(self.elements)}\")\n",
        "            return removed_item\n",
        "        print(\"Fila está vazia, nada para remover.\")\n",
        "        return None\n",
        "\n",
        "    def peek(self):\n",
        "        \"\"\"Retorna o primeiro item da fila sem remover\"\"\"\n",
        "        if self.elements:\n",
        "            return self.elements[0]\n",
        "        return None\n",
        "\n",
        "    def is_empty(self):\n",
        "        \"\"\"Verifica se a fila está vazia\"\"\"\n",
        "        return len(self.elements) == 0\n"
      ],
      "metadata": {
        "id": "FWp7xw_jF5ar"
      },
      "execution_count": null,
      "outputs": []
    },
    {
      "cell_type": "code",
      "source": [
        "# Criar a fila\n",
        "queue = Queue()\n",
        "\n",
        "# Enfileirar itens\n",
        "queue.enqueue('A')\n",
        "queue.enqueue('B')\n",
        "queue.enqueue('C')\n",
        "\n",
        "# Espiar o primeiro item\n",
        "print(f\"Primeiro item na fila: {queue.peek()}\")"
      ],
      "metadata": {
        "colab": {
          "base_uri": "https://localhost:8080/"
        },
        "id": "D_PQ_PB9GJs9",
        "outputId": "f7d09afa-06bf-402d-c6f4-765f837b9964"
      },
      "execution_count": null,
      "outputs": [
        {
          "output_type": "stream",
          "name": "stdout",
          "text": [
            "Item A adicionado à fila. Fila atual: ['A']\n",
            "Item B adicionado à fila. Fila atual: ['A', 'B']\n",
            "Item C adicionado à fila. Fila atual: ['A', 'B', 'C']\n",
            "Primeiro item na fila: A\n"
          ]
        }
      ]
    },
    {
      "cell_type": "code",
      "source": [
        "# Desenfileirar itens\n",
        "queue.dequeue()\n",
        "queue.dequeue()\n",
        "queue.dequeue()\n",
        "\n",
        "# Tentar desenfileirar de uma fila vazia\n",
        "queue.dequeue()"
      ],
      "metadata": {
        "colab": {
          "base_uri": "https://localhost:8080/"
        },
        "id": "SWYtkbY-GPoM",
        "outputId": "018c53e7-6754-46fc-cc61-08790baf0134"
      },
      "execution_count": null,
      "outputs": [
        {
          "output_type": "stream",
          "name": "stdout",
          "text": [
            "Item A removido da fila. Fila atual: ['B', 'C']\n",
            "Item B removido da fila. Fila atual: ['C']\n",
            "Item C removido da fila. Fila atual: []\n",
            "Fila está vazia, nada para remover.\n"
          ]
        }
      ]
    },
    {
      "cell_type": "markdown",
      "source": [
        "# **Atividade 03. Filas**\n",
        "**Questão 01.** Complete o código em Python para que ele solicite ao usuário que digite cinco números inteiros e os enfileire usando uma fila."
      ],
      "metadata": {
        "id": "JBkowGbJGiPe"
      }
    },
    {
      "cell_type": "code",
      "source": [
        "from collections import deque\n",
        "\n",
        "def main():\n",
        "    # Cria uma fila vazia\n",
        "    queue = deque()\n",
        "\n",
        "    # Solicita ao usuário que digite cinco números inteiros e insira-os na fila\n",
        "    print(\"Digite cinco números inteiros para enfileirar:\")\n",
        "    #... leia 5 números digitados pelo usuários\n",
        "    #... Enfileira cada número digitado\n",
        "\n",
        "    # Mostrar o conteúdo da fila\n",
        "    print(\"\\nConteúdo da fila:\")\n",
        "    while queue:\n",
        "        print(queue.popleft(), end=\" \")\n",
        "    print()  # Apenas para nova linha após terminar de imprimir a fila\n",
        "\n",
        "if __name__ == \"__main__\":\n",
        "    main()"
      ],
      "metadata": {
        "colab": {
          "base_uri": "https://localhost:8080/"
        },
        "id": "Rf3mMXl7HV-m",
        "outputId": "2984e390-05ad-4cd4-8ba0-28180e8e4c84"
      },
      "execution_count": null,
      "outputs": [
        {
          "output_type": "stream",
          "name": "stdout",
          "text": [
            "Digite cinco números inteiros para enfileirar:\n",
            "\n",
            "Conteúdo da fila:\n",
            "\n"
          ]
        }
      ]
    },
    {
      "cell_type": "markdown",
      "source": [
        "**Questão 02.**\n",
        "Simular uma fila de atendimento, onde clientes chegam em intervalos aleatórios e são atendidos por um caixa. Implementar a lógica para adicionar clientes à fila, atender esses clientes e imprimir o status da fila em cada etapa.\n",
        "\n",
        "**A.** Modificar a simulação para incluir múltiplos caixas: Adapte o código para permitir que mais de um cliente seja atendido ao mesmo tempo, simulando múltiplos caixas trabalhando.\n",
        "\n",
        "**B.** Adicionar funcionalidade de pico de chegada: Implemente lógica para simular momentos de pico, onde os clientes chegam mais rapidamente.\n",
        "\n",
        "**C.** Relatório do estado da fila: Após cada iteração, adicione um método que imprime o estado atual da fila (quantos clientes estão esperando)."
      ],
      "metadata": {
        "id": "F05LNYaGSJas"
      }
    },
    {
      "cell_type": "code",
      "source": [
        "from collections import deque\n",
        "import random\n",
        "import time\n",
        "\n",
        "class QueueSimulation:\n",
        "    def __init__(self):\n",
        "        self.queue = deque()\n",
        "\n",
        "    def arrive(self, customer):\n",
        "        \"\"\"Um novo cliente chega e é adicionado à fila.\"\"\"\n",
        "        print(f\"Cliente {customer} chegou.\")\n",
        "        self.queue.append(customer)\n",
        "\n",
        "    def serve(self):\n",
        "        \"\"\"Serve o próximo cliente na fila.\"\"\"\n",
        "        if self.queue:\n",
        "            customer = self.queue.popleft()\n",
        "            print(f\"Cliente {customer} foi atendido.\")\n",
        "        else:\n",
        "            print(\"Não há clientes na fila.\")\n",
        "\n",
        "    def simulate(self):\n",
        "        \"\"\"Executa a simulação por um número definido de iterações.\"\"\"\n",
        "        for i in range(10):  # Simula 10 chegadas e atendimentos\n",
        "            self.arrive(f\"Cliente-{i+1}\")\n",
        "            time.sleep(random.uniform(0.5, 1.5))  # Espera entre chegadas\n",
        "            self.serve()\n",
        "            time.sleep(0.5)  # Tempo de atendimento\n",
        "\n",
        "# Executar a simulação\n",
        "if __name__ == \"__main__\":\n",
        "    sim = QueueSimulation()\n",
        "    sim.simulate()\n"
      ],
      "metadata": {
        "colab": {
          "base_uri": "https://localhost:8080/"
        },
        "id": "6VgsEveUSsZ1",
        "outputId": "4472e06f-15a8-4244-a61d-6b0beb6e9592"
      },
      "execution_count": null,
      "outputs": [
        {
          "output_type": "stream",
          "name": "stdout",
          "text": [
            "Cliente Cliente-1 chegou.\n",
            "Cliente Cliente-1 foi atendido.\n",
            "Cliente Cliente-2 chegou.\n",
            "Cliente Cliente-2 foi atendido.\n",
            "Cliente Cliente-3 chegou.\n",
            "Cliente Cliente-3 foi atendido.\n",
            "Cliente Cliente-4 chegou.\n",
            "Cliente Cliente-4 foi atendido.\n",
            "Cliente Cliente-5 chegou.\n",
            "Cliente Cliente-5 foi atendido.\n",
            "Cliente Cliente-6 chegou.\n",
            "Cliente Cliente-6 foi atendido.\n",
            "Cliente Cliente-7 chegou.\n",
            "Cliente Cliente-7 foi atendido.\n",
            "Cliente Cliente-8 chegou.\n",
            "Cliente Cliente-8 foi atendido.\n",
            "Cliente Cliente-9 chegou.\n",
            "Cliente Cliente-9 foi atendido.\n",
            "Cliente Cliente-10 chegou.\n",
            "Cliente Cliente-10 foi atendido.\n"
          ]
        }
      ]
    },
    {
      "cell_type": "markdown",
      "source": [
        "# **AULA 03. Árvores Binárias**\n",
        "Para criar uma classe de árvore binária de busca em Python que inclua métodos para busca, inserção, remoção e travessia, podemos seguir as seguintes definições:"
      ],
      "metadata": {
        "id": "AcVd-zo2-OZa"
      }
    },
    {
      "cell_type": "code",
      "source": [
        "class Node:\n",
        "    def __init__(self, key):\n",
        "        \"\"\"Inicializa um novo nó com o valor dado e sem filhos.\"\"\"\n",
        "        self.left = None  # Filho à esquerda\n",
        "        self.right = None  # Filho à direita\n",
        "        self.val = key  # Valor do nó"
      ],
      "metadata": {
        "id": "QMn7kfOd-cJp"
      },
      "execution_count": null,
      "outputs": []
    },
    {
      "cell_type": "code",
      "source": [
        "class BinarySearchTree:\n",
        "    def __init__(self):\n",
        "        \"\"\"Inicializa uma árvore binária de busca vazia.\"\"\"\n",
        "        self.root = None\n",
        "\n",
        "    def search(self, key):\n",
        "        \"\"\"Busca por uma chave na árvore. Retorna True se encontrada, caso contrário False.\"\"\"\n",
        "        return self._search_recursive(self.root, key)\n",
        "\n",
        "    def _search_recursive(self, node, key):\n",
        "        \"\"\"Função recursiva para buscar um valor na árvore.\"\"\"\n",
        "        if node is None:\n",
        "            return False  # Base da recursão: chegou em um nó folha\n",
        "        elif key == node.val:\n",
        "            return True  # Encontrou o valor\n",
        "        elif key < node.val:\n",
        "            return self._search_recursive(node.left, key)  # Busca no subárvore esquerda\n",
        "        else:\n",
        "            return self._search_recursive(node.right, key)  # Busca na subárvore direita\n",
        "\n",
        "    def insert(self, key):\n",
        "        \"\"\"Insere uma nova chave na árvore.\"\"\"\n",
        "        if self.root is None:\n",
        "            self.root = Node(key)  # Se a árvore estiver vazia, cria o nó raiz\n",
        "        else:\n",
        "            self._insert_recursive(self.root, key)  # Caso contrário, usa a função recursiva para inserir\n",
        "\n",
        "    def _insert_recursive(self, node, key):\n",
        "        \"\"\"Insere recursivamente um novo valor na árvore.\"\"\"\n",
        "        if key < node.val:\n",
        "            if node.left is None:\n",
        "                node.left = Node(key)  # Insere à esquerda se o espaço estiver vazio\n",
        "            else:\n",
        "                self._insert_recursive(node.left, key)  # Continua na subárvore esquerda\n",
        "        else:\n",
        "            if node.right is None:\n",
        "                node.right = Node(key)  # Insere à direita se o espaço estiver vazio\n",
        "            else:\n",
        "                self._insert_recursive(node.right, key)  # Continua na subárvore direita\n",
        "\n",
        "    def delete(self, key):\n",
        "        \"\"\"Remove uma chave da árvore.\"\"\"\n",
        "        self.root = self._delete_recursive(self.root, key)\n",
        "\n",
        "    def _delete_recursive(self, node, key):\n",
        "        \"\"\"Remove recursivamente um nó da árvore.\"\"\"\n",
        "        if node is None:\n",
        "            return None\n",
        "        if key < node.val:\n",
        "            node.left = self._delete_recursive(node.left, key)  # Navega para a esquerda\n",
        "        elif key > node.val:\n",
        "            node.right = self._delete_recursive(node.right, key)  # Navega para a direita\n",
        "        else:\n",
        "            if node.left is None:\n",
        "                return node.right  # Substitui o nó atual pelo seu subárvore direito\n",
        "            if node.right is None:\n",
        "                return node.left  # Substitui pelo subárvore esquerdo\n",
        "            min_larger_node = self._get_min(node.right)\n",
        "            node.val = min_larger_node.val\n",
        "            node.right = self._delete_recursive(node.right, min_larger_node.val)\n",
        "        return node\n",
        "\n",
        "    def _get_min(self, node):\n",
        "        \"\"\"Encontra o menor valor na subárvore (utilizado durante a remoção).\"\"\"\n",
        "        while node.left is not None:\n",
        "            node = node.left\n",
        "        return node\n",
        "\n",
        "    def inorder_traversal(self):\n",
        "        \"\"\"Realiza a travessia em ordem da árvore e retorna uma lista dos elementos.\"\"\"\n",
        "        return self._inorder_traversal_recursive(self.root)\n",
        "\n",
        "    def _inorder_traversal_recursive(self, node):\n",
        "        \"\"\"Travessia em ordem recursiva para coletar os valores da árvore.\"\"\"\n",
        "        elements = []\n",
        "        if node:\n",
        "            elements += self._inorder_traversal_recursive(node.left)\n",
        "            elements.append(node.val)\n",
        "            elements += self._inorder_traversal_recursive(node.right)\n",
        "        return elements"
      ],
      "metadata": {
        "id": "P0hjB5dGAhet"
      },
      "execution_count": null,
      "outputs": []
    },
    {
      "cell_type": "code",
      "source": [
        "# Código para testar a classe BST\n",
        "if __name__ == \"__main__\":\n",
        "    bst = BinarySearchTree()\n",
        "    elements = [50, 30, 40, 40, 70, 60, 80]\n",
        "    for el in elements:\n",
        "        bst.insert(el)\n",
        "\n",
        "    print(\"Travessia em ordem da BST:\", bst.inorder_traversal())\n",
        "    print(\"Busca pelo número 50 na BST:\", \"Encontrado\" if bst.search(50) else \"Não encontrado\")\n",
        "    bst.delete(50)\n",
        "    print(\"Travessia em ordem após remover o número 50:\", bst.inorder_traversal())"
      ],
      "metadata": {
        "colab": {
          "base_uri": "https://localhost:8080/"
        },
        "id": "k-rBQbgNAn-9",
        "outputId": "9f55e095-2f6f-409c-baea-dba7831af5c3"
      },
      "execution_count": null,
      "outputs": [
        {
          "output_type": "stream",
          "name": "stdout",
          "text": [
            "Travessia em ordem da BST: [30, 40, 40, 50, 60, 70, 80]\n",
            "Busca pelo número 50 na BST: Encontrado\n",
            "Travessia em ordem após remover o número 50: [30, 40, 40, 60, 70, 80]\n"
          ]
        }
      ]
    },
    {
      "cell_type": "markdown",
      "source": [
        "# **Atividade 04. Árvore Binária**\n",
        "**Questão 01.** Insira 10 itens, previamente definidos no código, e implementarão a remoção desses itens usando recursividade.\n",
        "\n",
        "**Questão 02.** Verifique se a árvore está vazia após todas as remoções."
      ],
      "metadata": {
        "id": "56L8dgPgDhT0"
      }
    },
    {
      "cell_type": "code",
      "source": [
        "class Node:\n",
        "    def __init__(self, key):\n",
        "        self.left = None\n",
        "        self.right = None\n",
        "        self.val = key\n",
        "\n",
        "class BinarySearchTree:\n",
        "    def __init__(self):\n",
        "        self.root = None\n",
        "\n",
        "    def insert(self, key):\n",
        "        # Função para inserir um novo nó com a chave fornecida\n",
        "        # CRIAR A FUNÇÃO DE INSERÇÃO AQUI [apagar]\n",
        "\n",
        "    def _insert_recursive(self, node, key):\n",
        "        if key < node.val:\n",
        "            if node.left is None:\n",
        "                node.left = Node(key)\n",
        "            else:\n",
        "                self._insert_recursive(node.left, key)\n",
        "        else:\n",
        "            if node.right is None:\n",
        "                node.right = Node(key)\n",
        "            else:\n",
        "                self._insert_recursive(node.right, key)\n",
        "\n",
        "    def delete(self, key):\n",
        "        # TODO: Implemente a função para remover um nó\n",
        "        pass\n",
        "\n",
        "    def _delete_recursive(self, node, key):\n",
        "        # TODO: Implemente a função recursiva para remover um nó\n",
        "        pass\n",
        "\n",
        "    def is_empty(self):\n",
        "        # Verifica se a árvore está vazia\n",
        "        return self.root is None\n",
        "\n",
        "    def inorder_traversal(self):\n",
        "        # Realiza a travessia em ordem da árvore e retorna uma lista dos elementos\n",
        "        return self._inorder_traversal_recursive(self.root)\n",
        "\n",
        "    def _inorder_traversal_recursive(self, node):\n",
        "        elements = []\n",
        "        if node:\n",
        "            elements += self._inorder_traversal_recursive(node.left)\n",
        "            elements.append(node.val)\n",
        "            elements += self._inorder_traversal_recursive(node.right)\n",
        "        return elements\n",
        "\n",
        "# Código para testar a classe BST\n",
        "if __name__ == \"__main__\":\n",
        "    bst = BinarySearchTree()\n",
        "    # CRIAR O CÓDIGO COM OS 10 ITENS AQUI\n",
        "    # CHAMAR A FUNÇÃO DE INSERÇÃO\n",
        "\n",
        "    print(\"Travessia em ordem da BST:\", bst.inorder_traversal())\n",
        "    # Remova um por um e cheque se a árvore está vazia no final\n",
        "    # CRIAR O CÓDIGO DE REMOÇÃO AQUI\n",
        "\n",
        "    print(\"A árvore está vazia?\", \"Sim\" if bst.is_empty() else \"Não\")\n"
      ],
      "metadata": {
        "colab": {
          "base_uri": "https://localhost:8080/",
          "height": 108
        },
        "id": "na2ypC-mD4K4",
        "outputId": "57c8fa38-8adf-4e47-fc3f-b4f76519edd5"
      },
      "execution_count": null,
      "outputs": [
        {
          "output_type": "error",
          "ename": "IndentationError",
          "evalue": "expected an indented block after function definition on line 11 (<ipython-input-2-1f8c0e958dbb>, line 15)",
          "traceback": [
            "\u001b[0;36m  File \u001b[0;32m\"<ipython-input-2-1f8c0e958dbb>\"\u001b[0;36m, line \u001b[0;32m15\u001b[0m\n\u001b[0;31m    def _insert_recursive(self, node, key):\u001b[0m\n\u001b[0m    ^\u001b[0m\n\u001b[0;31mIndentationError\u001b[0m\u001b[0;31m:\u001b[0m expected an indented block after function definition on line 11\n"
          ]
        }
      ]
    }
  ]
}